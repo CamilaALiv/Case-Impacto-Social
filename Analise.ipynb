{
 "cells": [
  {
   "cell_type": "markdown",
   "metadata": {
    "id": "X84pOgIFQO_N"
   },
   "source": [
    "# Material de Apoio: Análise de Dados {reprograma}"
   ]
  },
  {
   "cell_type": "markdown",
   "metadata": {
    "id": "xSflft-wQPM8"
   },
   "source": [
    "Nesse notebook encontram-se as análises e gráficos utilizados para construir a apresentação solicitada pela equipe de Relacionamento a fim de mostrar a importância da {reprograma} para investidores. Os materiais estão divididos por momento da apresentação:\n",
    "1. Introdução;\n",
    "2. Perfil Socioeconômico Inicial;\n",
    "3. O Impacto do Curso na Renda e Emprego,\n",
    "4. Conclusão.\n",
    "\n",
    "\n",
    "\n",
    "## 1. Introdução:\n",
    "\n",
    "**1.1. Tabela do IBGE(1) com rendimento mensal médio da população dividido por gênero, de janeiro de 2019 a junho de 2023 (2020 e 2021 não disponibizados devido à pandemia de COVID-19).**"
   ]
  },
  {
   "cell_type": "code",
   "execution_count": null,
   "metadata": {
    "id": "47f9mH4vbUuk"
   },
   "outputs": [],
   "source": [
    "import pandas as pd\n",
    "import matplotlib.pyplot as plt\n",
    "import numpy as np\n",
    "import warnings\n",
    "warnings.filterwarnings(\"ignore\")"
   ]
  },
  {
   "cell_type": "code",
   "execution_count": null,
   "metadata": {
    "colab": {
     "base_uri": "https://localhost:8080/",
     "height": 429
    },
    "id": "1KfipmQ8ccCU",
    "outputId": "be8180fe-ca3b-43ea-bbd6-9731d629f68d"
   },
   "outputs": [
    {
     "data": {
      "text/html": [
       "\n",
       "  <div id=\"df-f30c71e5-5f62-4825-9111-bcba6167b7f3\" class=\"colab-df-container\">\n",
       "    <div>\n",
       "<style scoped>\n",
       "    .dataframe tbody tr th:only-of-type {\n",
       "        vertical-align: middle;\n",
       "    }\n",
       "\n",
       "    .dataframe tbody tr th {\n",
       "        vertical-align: top;\n",
       "    }\n",
       "\n",
       "    .dataframe thead th {\n",
       "        text-align: right;\n",
       "    }\n",
       "</style>\n",
       "<table border=\"1\" class=\"dataframe\">\n",
       "  <thead>\n",
       "    <tr style=\"text-align: right;\">\n",
       "      <th></th>\n",
       "      <th>Tabela 5436 - Rendimento médio mensal real das pessoas de 14 anos ou mais de idade ocupadas na semana de referência com rendimento de trabalho, habitualmente e efetivamente recebidos no trabalho principal e em todos os trabalhos, por sexo</th>\n",
       "      <th>Unnamed: 1</th>\n",
       "      <th>Unnamed: 2</th>\n",
       "      <th>Unnamed: 3</th>\n",
       "    </tr>\n",
       "  </thead>\n",
       "  <tbody>\n",
       "    <tr>\n",
       "      <th>0</th>\n",
       "      <td>Trimestre</td>\n",
       "      <td>Homens</td>\n",
       "      <td>Mulheres</td>\n",
       "      <td>Total</td>\n",
       "    </tr>\n",
       "    <tr>\n",
       "      <th>1</th>\n",
       "      <td>1º trimestre 2019</td>\n",
       "      <td>3124</td>\n",
       "      <td>2462</td>\n",
       "      <td>2844</td>\n",
       "    </tr>\n",
       "    <tr>\n",
       "      <th>2</th>\n",
       "      <td>2º trimestre 2019</td>\n",
       "      <td>3088</td>\n",
       "      <td>2425</td>\n",
       "      <td>2806</td>\n",
       "    </tr>\n",
       "    <tr>\n",
       "      <th>3</th>\n",
       "      <td>3º trimestre 2019</td>\n",
       "      <td>3102</td>\n",
       "      <td>2421</td>\n",
       "      <td>2813</td>\n",
       "    </tr>\n",
       "    <tr>\n",
       "      <th>4</th>\n",
       "      <td>4º trimestre 2019</td>\n",
       "      <td>3123</td>\n",
       "      <td>2442</td>\n",
       "      <td>2834</td>\n",
       "    </tr>\n",
       "    <tr>\n",
       "      <th>5</th>\n",
       "      <td>1º trimestre 2020</td>\n",
       "      <td>3178</td>\n",
       "      <td>2459</td>\n",
       "      <td>2875</td>\n",
       "    </tr>\n",
       "    <tr>\n",
       "      <th>6</th>\n",
       "      <td>2º trimestre 2022</td>\n",
       "      <td>2939</td>\n",
       "      <td>2304</td>\n",
       "      <td>2670</td>\n",
       "    </tr>\n",
       "    <tr>\n",
       "      <th>7</th>\n",
       "      <td>3º trimestre 2022</td>\n",
       "      <td>3031</td>\n",
       "      <td>2401</td>\n",
       "      <td>2763</td>\n",
       "    </tr>\n",
       "    <tr>\n",
       "      <th>8</th>\n",
       "      <td>4º trimestre 2022</td>\n",
       "      <td>3115</td>\n",
       "      <td>2421</td>\n",
       "      <td>2819</td>\n",
       "    </tr>\n",
       "    <tr>\n",
       "      <th>9</th>\n",
       "      <td>1º trimestre 2023</td>\n",
       "      <td>3111</td>\n",
       "      <td>2475</td>\n",
       "      <td>2841</td>\n",
       "    </tr>\n",
       "    <tr>\n",
       "      <th>10</th>\n",
       "      <td>2º trimestre 2023</td>\n",
       "      <td>3107</td>\n",
       "      <td>2473</td>\n",
       "      <td>2836</td>\n",
       "    </tr>\n",
       "  </tbody>\n",
       "</table>\n",
       "</div>\n",
       "    <div class=\"colab-df-buttons\">\n",
       "\n",
       "  <div class=\"colab-df-container\">\n",
       "    <button class=\"colab-df-convert\" onclick=\"convertToInteractive('df-f30c71e5-5f62-4825-9111-bcba6167b7f3')\"\n",
       "            title=\"Convert this dataframe to an interactive table.\"\n",
       "            style=\"display:none;\">\n",
       "\n",
       "  <svg xmlns=\"http://www.w3.org/2000/svg\" height=\"24px\" viewBox=\"0 -960 960 960\">\n",
       "    <path d=\"M120-120v-720h720v720H120Zm60-500h600v-160H180v160Zm220 220h160v-160H400v160Zm0 220h160v-160H400v160ZM180-400h160v-160H180v160Zm440 0h160v-160H620v160ZM180-180h160v-160H180v160Zm440 0h160v-160H620v160Z\"/>\n",
       "  </svg>\n",
       "    </button>\n",
       "\n",
       "  <style>\n",
       "    .colab-df-container {\n",
       "      display:flex;\n",
       "      gap: 12px;\n",
       "    }\n",
       "\n",
       "    .colab-df-convert {\n",
       "      background-color: #E8F0FE;\n",
       "      border: none;\n",
       "      border-radius: 50%;\n",
       "      cursor: pointer;\n",
       "      display: none;\n",
       "      fill: #1967D2;\n",
       "      height: 32px;\n",
       "      padding: 0 0 0 0;\n",
       "      width: 32px;\n",
       "    }\n",
       "\n",
       "    .colab-df-convert:hover {\n",
       "      background-color: #E2EBFA;\n",
       "      box-shadow: 0px 1px 2px rgba(60, 64, 67, 0.3), 0px 1px 3px 1px rgba(60, 64, 67, 0.15);\n",
       "      fill: #174EA6;\n",
       "    }\n",
       "\n",
       "    .colab-df-buttons div {\n",
       "      margin-bottom: 4px;\n",
       "    }\n",
       "\n",
       "    [theme=dark] .colab-df-convert {\n",
       "      background-color: #3B4455;\n",
       "      fill: #D2E3FC;\n",
       "    }\n",
       "\n",
       "    [theme=dark] .colab-df-convert:hover {\n",
       "      background-color: #434B5C;\n",
       "      box-shadow: 0px 1px 3px 1px rgba(0, 0, 0, 0.15);\n",
       "      filter: drop-shadow(0px 1px 2px rgba(0, 0, 0, 0.3));\n",
       "      fill: #FFFFFF;\n",
       "    }\n",
       "  </style>\n",
       "\n",
       "    <script>\n",
       "      const buttonEl =\n",
       "        document.querySelector('#df-f30c71e5-5f62-4825-9111-bcba6167b7f3 button.colab-df-convert');\n",
       "      buttonEl.style.display =\n",
       "        google.colab.kernel.accessAllowed ? 'block' : 'none';\n",
       "\n",
       "      async function convertToInteractive(key) {\n",
       "        const element = document.querySelector('#df-f30c71e5-5f62-4825-9111-bcba6167b7f3');\n",
       "        const dataTable =\n",
       "          await google.colab.kernel.invokeFunction('convertToInteractive',\n",
       "                                                    [key], {});\n",
       "        if (!dataTable) return;\n",
       "\n",
       "        const docLinkHtml = 'Like what you see? Visit the ' +\n",
       "          '<a target=\"_blank\" href=https://colab.research.google.com/notebooks/data_table.ipynb>data table notebook</a>'\n",
       "          + ' to learn more about interactive tables.';\n",
       "        element.innerHTML = '';\n",
       "        dataTable['output_type'] = 'display_data';\n",
       "        await google.colab.output.renderOutput(dataTable, element);\n",
       "        const docLink = document.createElement('div');\n",
       "        docLink.innerHTML = docLinkHtml;\n",
       "        element.appendChild(docLink);\n",
       "      }\n",
       "    </script>\n",
       "  </div>\n",
       "\n",
       "\n",
       "<div id=\"df-0399518d-7f62-48cf-83d8-c9168de9020d\">\n",
       "  <button class=\"colab-df-quickchart\" onclick=\"quickchart('df-0399518d-7f62-48cf-83d8-c9168de9020d')\"\n",
       "            title=\"Suggest charts.\"\n",
       "            style=\"display:none;\">\n",
       "\n",
       "<svg xmlns=\"http://www.w3.org/2000/svg\" height=\"24px\"viewBox=\"0 0 24 24\"\n",
       "     width=\"24px\">\n",
       "    <g>\n",
       "        <path d=\"M19 3H5c-1.1 0-2 .9-2 2v14c0 1.1.9 2 2 2h14c1.1 0 2-.9 2-2V5c0-1.1-.9-2-2-2zM9 17H7v-7h2v7zm4 0h-2V7h2v10zm4 0h-2v-4h2v4z\"/>\n",
       "    </g>\n",
       "</svg>\n",
       "  </button>\n",
       "\n",
       "<style>\n",
       "  .colab-df-quickchart {\n",
       "      --bg-color: #E8F0FE;\n",
       "      --fill-color: #1967D2;\n",
       "      --hover-bg-color: #E2EBFA;\n",
       "      --hover-fill-color: #174EA6;\n",
       "      --disabled-fill-color: #AAA;\n",
       "      --disabled-bg-color: #DDD;\n",
       "  }\n",
       "\n",
       "  [theme=dark] .colab-df-quickchart {\n",
       "      --bg-color: #3B4455;\n",
       "      --fill-color: #D2E3FC;\n",
       "      --hover-bg-color: #434B5C;\n",
       "      --hover-fill-color: #FFFFFF;\n",
       "      --disabled-bg-color: #3B4455;\n",
       "      --disabled-fill-color: #666;\n",
       "  }\n",
       "\n",
       "  .colab-df-quickchart {\n",
       "    background-color: var(--bg-color);\n",
       "    border: none;\n",
       "    border-radius: 50%;\n",
       "    cursor: pointer;\n",
       "    display: none;\n",
       "    fill: var(--fill-color);\n",
       "    height: 32px;\n",
       "    padding: 0;\n",
       "    width: 32px;\n",
       "  }\n",
       "\n",
       "  .colab-df-quickchart:hover {\n",
       "    background-color: var(--hover-bg-color);\n",
       "    box-shadow: 0 1px 2px rgba(60, 64, 67, 0.3), 0 1px 3px 1px rgba(60, 64, 67, 0.15);\n",
       "    fill: var(--button-hover-fill-color);\n",
       "  }\n",
       "\n",
       "  .colab-df-quickchart-complete:disabled,\n",
       "  .colab-df-quickchart-complete:disabled:hover {\n",
       "    background-color: var(--disabled-bg-color);\n",
       "    fill: var(--disabled-fill-color);\n",
       "    box-shadow: none;\n",
       "  }\n",
       "\n",
       "  .colab-df-spinner {\n",
       "    border: 2px solid var(--fill-color);\n",
       "    border-color: transparent;\n",
       "    border-bottom-color: var(--fill-color);\n",
       "    animation:\n",
       "      spin 1s steps(1) infinite;\n",
       "  }\n",
       "\n",
       "  @keyframes spin {\n",
       "    0% {\n",
       "      border-color: transparent;\n",
       "      border-bottom-color: var(--fill-color);\n",
       "      border-left-color: var(--fill-color);\n",
       "    }\n",
       "    20% {\n",
       "      border-color: transparent;\n",
       "      border-left-color: var(--fill-color);\n",
       "      border-top-color: var(--fill-color);\n",
       "    }\n",
       "    30% {\n",
       "      border-color: transparent;\n",
       "      border-left-color: var(--fill-color);\n",
       "      border-top-color: var(--fill-color);\n",
       "      border-right-color: var(--fill-color);\n",
       "    }\n",
       "    40% {\n",
       "      border-color: transparent;\n",
       "      border-right-color: var(--fill-color);\n",
       "      border-top-color: var(--fill-color);\n",
       "    }\n",
       "    60% {\n",
       "      border-color: transparent;\n",
       "      border-right-color: var(--fill-color);\n",
       "    }\n",
       "    80% {\n",
       "      border-color: transparent;\n",
       "      border-right-color: var(--fill-color);\n",
       "      border-bottom-color: var(--fill-color);\n",
       "    }\n",
       "    90% {\n",
       "      border-color: transparent;\n",
       "      border-bottom-color: var(--fill-color);\n",
       "    }\n",
       "  }\n",
       "</style>\n",
       "\n",
       "  <script>\n",
       "    async function quickchart(key) {\n",
       "      const quickchartButtonEl =\n",
       "        document.querySelector('#' + key + ' button');\n",
       "      quickchartButtonEl.disabled = true;  // To prevent multiple clicks.\n",
       "      quickchartButtonEl.classList.add('colab-df-spinner');\n",
       "      try {\n",
       "        const charts = await google.colab.kernel.invokeFunction(\n",
       "            'suggestCharts', [key], {});\n",
       "      } catch (error) {\n",
       "        console.error('Error during call to suggestCharts:', error);\n",
       "      }\n",
       "      quickchartButtonEl.classList.remove('colab-df-spinner');\n",
       "      quickchartButtonEl.classList.add('colab-df-quickchart-complete');\n",
       "    }\n",
       "    (() => {\n",
       "      let quickchartButtonEl =\n",
       "        document.querySelector('#df-0399518d-7f62-48cf-83d8-c9168de9020d button');\n",
       "      quickchartButtonEl.style.display =\n",
       "        google.colab.kernel.accessAllowed ? 'block' : 'none';\n",
       "    })();\n",
       "  </script>\n",
       "</div>\n",
       "    </div>\n",
       "  </div>\n"
      ],
      "text/plain": [
       "   Tabela 5436 - Rendimento médio mensal real das pessoas de 14 anos ou mais de idade ocupadas na semana de referência com rendimento de trabalho, habitualmente e efetivamente recebidos no trabalho principal e em todos os trabalhos, por sexo  \\\n",
       "0                                           Trimestre                                                                                                                                                                                               \n",
       "1                                   1º trimestre 2019                                                                                                                                                                                               \n",
       "2                                   2º trimestre 2019                                                                                                                                                                                               \n",
       "3                                   3º trimestre 2019                                                                                                                                                                                               \n",
       "4                                   4º trimestre 2019                                                                                                                                                                                               \n",
       "5                                   1º trimestre 2020                                                                                                                                                                                               \n",
       "6                                   2º trimestre 2022                                                                                                                                                                                               \n",
       "7                                   3º trimestre 2022                                                                                                                                                                                               \n",
       "8                                   4º trimestre 2022                                                                                                                                                                                               \n",
       "9                                   1º trimestre 2023                                                                                                                                                                                               \n",
       "10                                  2º trimestre 2023                                                                                                                                                                                               \n",
       "\n",
       "   Unnamed: 1 Unnamed: 2 Unnamed: 3  \n",
       "0      Homens   Mulheres      Total  \n",
       "1        3124       2462       2844  \n",
       "2        3088       2425       2806  \n",
       "3        3102       2421       2813  \n",
       "4        3123       2442       2834  \n",
       "5        3178       2459       2875  \n",
       "6        2939       2304       2670  \n",
       "7        3031       2401       2763  \n",
       "8        3115       2421       2819  \n",
       "9        3111       2475       2841  \n",
       "10       3107       2473       2836  "
      ]
     },
     "execution_count": 2,
     "metadata": {},
     "output_type": "execute_result"
    }
   ],
   "source": [
    "dados_ibge = pd.read_excel('/content/drive/MyDrive/Dados/Tabela 5436.xlsx')\n",
    "dados_ibge"
   ]
  },
  {
   "cell_type": "markdown",
   "metadata": {
    "id": "oJPEp8PfewOd"
   },
   "source": [
    "Com essa tabela que retiramos do site do IBGE, vimos que no contexto geral do Brasil,o rendimento médio mensal dos homens é maior do que o das mulheres em todos os períodos apurados.\n",
    "Abaixo vamos realizar algumas manipulações nessa tabela para adequá-la para análise."
   ]
  },
  {
   "cell_type": "code",
   "execution_count": null,
   "metadata": {
    "id": "x8gQVAnKk5CL"
   },
   "outputs": [],
   "source": [
    "# exluindo a primeira linha para melhorar a visualização\n",
    "dados_ibge.columns = dados_ibge.iloc[0]\n",
    "dados_ibge = dados_ibge[1:].reset_index(drop=True)"
   ]
  },
  {
   "cell_type": "code",
   "execution_count": null,
   "metadata": {
    "colab": {
     "base_uri": "https://localhost:8080/",
     "height": 363
    },
    "id": "Vyeibc_3lMAn",
    "outputId": "df456c1a-da1e-46f5-850d-612c7b7feebd"
   },
   "outputs": [
    {
     "data": {
      "text/html": [
       "\n",
       "  <div id=\"df-f7210c08-9d55-4ea8-b521-5e8251676ce5\" class=\"colab-df-container\">\n",
       "    <div>\n",
       "<style scoped>\n",
       "    .dataframe tbody tr th:only-of-type {\n",
       "        vertical-align: middle;\n",
       "    }\n",
       "\n",
       "    .dataframe tbody tr th {\n",
       "        vertical-align: top;\n",
       "    }\n",
       "\n",
       "    .dataframe thead th {\n",
       "        text-align: right;\n",
       "    }\n",
       "</style>\n",
       "<table border=\"1\" class=\"dataframe\">\n",
       "  <thead>\n",
       "    <tr style=\"text-align: right;\">\n",
       "      <th></th>\n",
       "      <th>Trimestre</th>\n",
       "      <th>Homens</th>\n",
       "      <th>Mulheres</th>\n",
       "      <th>Total</th>\n",
       "    </tr>\n",
       "  </thead>\n",
       "  <tbody>\n",
       "    <tr>\n",
       "      <th>0</th>\n",
       "      <td>1º trimestre 2019</td>\n",
       "      <td>3124</td>\n",
       "      <td>2462</td>\n",
       "      <td>2844</td>\n",
       "    </tr>\n",
       "    <tr>\n",
       "      <th>1</th>\n",
       "      <td>2º trimestre 2019</td>\n",
       "      <td>3088</td>\n",
       "      <td>2425</td>\n",
       "      <td>2806</td>\n",
       "    </tr>\n",
       "    <tr>\n",
       "      <th>2</th>\n",
       "      <td>3º trimestre 2019</td>\n",
       "      <td>3102</td>\n",
       "      <td>2421</td>\n",
       "      <td>2813</td>\n",
       "    </tr>\n",
       "    <tr>\n",
       "      <th>3</th>\n",
       "      <td>4º trimestre 2019</td>\n",
       "      <td>3123</td>\n",
       "      <td>2442</td>\n",
       "      <td>2834</td>\n",
       "    </tr>\n",
       "    <tr>\n",
       "      <th>4</th>\n",
       "      <td>1º trimestre 2020</td>\n",
       "      <td>3178</td>\n",
       "      <td>2459</td>\n",
       "      <td>2875</td>\n",
       "    </tr>\n",
       "    <tr>\n",
       "      <th>5</th>\n",
       "      <td>2º trimestre 2022</td>\n",
       "      <td>2939</td>\n",
       "      <td>2304</td>\n",
       "      <td>2670</td>\n",
       "    </tr>\n",
       "    <tr>\n",
       "      <th>6</th>\n",
       "      <td>3º trimestre 2022</td>\n",
       "      <td>3031</td>\n",
       "      <td>2401</td>\n",
       "      <td>2763</td>\n",
       "    </tr>\n",
       "    <tr>\n",
       "      <th>7</th>\n",
       "      <td>4º trimestre 2022</td>\n",
       "      <td>3115</td>\n",
       "      <td>2421</td>\n",
       "      <td>2819</td>\n",
       "    </tr>\n",
       "    <tr>\n",
       "      <th>8</th>\n",
       "      <td>1º trimestre 2023</td>\n",
       "      <td>3111</td>\n",
       "      <td>2475</td>\n",
       "      <td>2841</td>\n",
       "    </tr>\n",
       "    <tr>\n",
       "      <th>9</th>\n",
       "      <td>2º trimestre 2023</td>\n",
       "      <td>3107</td>\n",
       "      <td>2473</td>\n",
       "      <td>2836</td>\n",
       "    </tr>\n",
       "  </tbody>\n",
       "</table>\n",
       "</div>\n",
       "    <div class=\"colab-df-buttons\">\n",
       "\n",
       "  <div class=\"colab-df-container\">\n",
       "    <button class=\"colab-df-convert\" onclick=\"convertToInteractive('df-f7210c08-9d55-4ea8-b521-5e8251676ce5')\"\n",
       "            title=\"Convert this dataframe to an interactive table.\"\n",
       "            style=\"display:none;\">\n",
       "\n",
       "  <svg xmlns=\"http://www.w3.org/2000/svg\" height=\"24px\" viewBox=\"0 -960 960 960\">\n",
       "    <path d=\"M120-120v-720h720v720H120Zm60-500h600v-160H180v160Zm220 220h160v-160H400v160Zm0 220h160v-160H400v160ZM180-400h160v-160H180v160Zm440 0h160v-160H620v160ZM180-180h160v-160H180v160Zm440 0h160v-160H620v160Z\"/>\n",
       "  </svg>\n",
       "    </button>\n",
       "\n",
       "  <style>\n",
       "    .colab-df-container {\n",
       "      display:flex;\n",
       "      gap: 12px;\n",
       "    }\n",
       "\n",
       "    .colab-df-convert {\n",
       "      background-color: #E8F0FE;\n",
       "      border: none;\n",
       "      border-radius: 50%;\n",
       "      cursor: pointer;\n",
       "      display: none;\n",
       "      fill: #1967D2;\n",
       "      height: 32px;\n",
       "      padding: 0 0 0 0;\n",
       "      width: 32px;\n",
       "    }\n",
       "\n",
       "    .colab-df-convert:hover {\n",
       "      background-color: #E2EBFA;\n",
       "      box-shadow: 0px 1px 2px rgba(60, 64, 67, 0.3), 0px 1px 3px 1px rgba(60, 64, 67, 0.15);\n",
       "      fill: #174EA6;\n",
       "    }\n",
       "\n",
       "    .colab-df-buttons div {\n",
       "      margin-bottom: 4px;\n",
       "    }\n",
       "\n",
       "    [theme=dark] .colab-df-convert {\n",
       "      background-color: #3B4455;\n",
       "      fill: #D2E3FC;\n",
       "    }\n",
       "\n",
       "    [theme=dark] .colab-df-convert:hover {\n",
       "      background-color: #434B5C;\n",
       "      box-shadow: 0px 1px 3px 1px rgba(0, 0, 0, 0.15);\n",
       "      filter: drop-shadow(0px 1px 2px rgba(0, 0, 0, 0.3));\n",
       "      fill: #FFFFFF;\n",
       "    }\n",
       "  </style>\n",
       "\n",
       "    <script>\n",
       "      const buttonEl =\n",
       "        document.querySelector('#df-f7210c08-9d55-4ea8-b521-5e8251676ce5 button.colab-df-convert');\n",
       "      buttonEl.style.display =\n",
       "        google.colab.kernel.accessAllowed ? 'block' : 'none';\n",
       "\n",
       "      async function convertToInteractive(key) {\n",
       "        const element = document.querySelector('#df-f7210c08-9d55-4ea8-b521-5e8251676ce5');\n",
       "        const dataTable =\n",
       "          await google.colab.kernel.invokeFunction('convertToInteractive',\n",
       "                                                    [key], {});\n",
       "        if (!dataTable) return;\n",
       "\n",
       "        const docLinkHtml = 'Like what you see? Visit the ' +\n",
       "          '<a target=\"_blank\" href=https://colab.research.google.com/notebooks/data_table.ipynb>data table notebook</a>'\n",
       "          + ' to learn more about interactive tables.';\n",
       "        element.innerHTML = '';\n",
       "        dataTable['output_type'] = 'display_data';\n",
       "        await google.colab.output.renderOutput(dataTable, element);\n",
       "        const docLink = document.createElement('div');\n",
       "        docLink.innerHTML = docLinkHtml;\n",
       "        element.appendChild(docLink);\n",
       "      }\n",
       "    </script>\n",
       "  </div>\n",
       "\n",
       "\n",
       "<div id=\"df-d9a407f5-fbc5-4744-be6b-7b2405219d1f\">\n",
       "  <button class=\"colab-df-quickchart\" onclick=\"quickchart('df-d9a407f5-fbc5-4744-be6b-7b2405219d1f')\"\n",
       "            title=\"Suggest charts.\"\n",
       "            style=\"display:none;\">\n",
       "\n",
       "<svg xmlns=\"http://www.w3.org/2000/svg\" height=\"24px\"viewBox=\"0 0 24 24\"\n",
       "     width=\"24px\">\n",
       "    <g>\n",
       "        <path d=\"M19 3H5c-1.1 0-2 .9-2 2v14c0 1.1.9 2 2 2h14c1.1 0 2-.9 2-2V5c0-1.1-.9-2-2-2zM9 17H7v-7h2v7zm4 0h-2V7h2v10zm4 0h-2v-4h2v4z\"/>\n",
       "    </g>\n",
       "</svg>\n",
       "  </button>\n",
       "\n",
       "<style>\n",
       "  .colab-df-quickchart {\n",
       "      --bg-color: #E8F0FE;\n",
       "      --fill-color: #1967D2;\n",
       "      --hover-bg-color: #E2EBFA;\n",
       "      --hover-fill-color: #174EA6;\n",
       "      --disabled-fill-color: #AAA;\n",
       "      --disabled-bg-color: #DDD;\n",
       "  }\n",
       "\n",
       "  [theme=dark] .colab-df-quickchart {\n",
       "      --bg-color: #3B4455;\n",
       "      --fill-color: #D2E3FC;\n",
       "      --hover-bg-color: #434B5C;\n",
       "      --hover-fill-color: #FFFFFF;\n",
       "      --disabled-bg-color: #3B4455;\n",
       "      --disabled-fill-color: #666;\n",
       "  }\n",
       "\n",
       "  .colab-df-quickchart {\n",
       "    background-color: var(--bg-color);\n",
       "    border: none;\n",
       "    border-radius: 50%;\n",
       "    cursor: pointer;\n",
       "    display: none;\n",
       "    fill: var(--fill-color);\n",
       "    height: 32px;\n",
       "    padding: 0;\n",
       "    width: 32px;\n",
       "  }\n",
       "\n",
       "  .colab-df-quickchart:hover {\n",
       "    background-color: var(--hover-bg-color);\n",
       "    box-shadow: 0 1px 2px rgba(60, 64, 67, 0.3), 0 1px 3px 1px rgba(60, 64, 67, 0.15);\n",
       "    fill: var(--button-hover-fill-color);\n",
       "  }\n",
       "\n",
       "  .colab-df-quickchart-complete:disabled,\n",
       "  .colab-df-quickchart-complete:disabled:hover {\n",
       "    background-color: var(--disabled-bg-color);\n",
       "    fill: var(--disabled-fill-color);\n",
       "    box-shadow: none;\n",
       "  }\n",
       "\n",
       "  .colab-df-spinner {\n",
       "    border: 2px solid var(--fill-color);\n",
       "    border-color: transparent;\n",
       "    border-bottom-color: var(--fill-color);\n",
       "    animation:\n",
       "      spin 1s steps(1) infinite;\n",
       "  }\n",
       "\n",
       "  @keyframes spin {\n",
       "    0% {\n",
       "      border-color: transparent;\n",
       "      border-bottom-color: var(--fill-color);\n",
       "      border-left-color: var(--fill-color);\n",
       "    }\n",
       "    20% {\n",
       "      border-color: transparent;\n",
       "      border-left-color: var(--fill-color);\n",
       "      border-top-color: var(--fill-color);\n",
       "    }\n",
       "    30% {\n",
       "      border-color: transparent;\n",
       "      border-left-color: var(--fill-color);\n",
       "      border-top-color: var(--fill-color);\n",
       "      border-right-color: var(--fill-color);\n",
       "    }\n",
       "    40% {\n",
       "      border-color: transparent;\n",
       "      border-right-color: var(--fill-color);\n",
       "      border-top-color: var(--fill-color);\n",
       "    }\n",
       "    60% {\n",
       "      border-color: transparent;\n",
       "      border-right-color: var(--fill-color);\n",
       "    }\n",
       "    80% {\n",
       "      border-color: transparent;\n",
       "      border-right-color: var(--fill-color);\n",
       "      border-bottom-color: var(--fill-color);\n",
       "    }\n",
       "    90% {\n",
       "      border-color: transparent;\n",
       "      border-bottom-color: var(--fill-color);\n",
       "    }\n",
       "  }\n",
       "</style>\n",
       "\n",
       "  <script>\n",
       "    async function quickchart(key) {\n",
       "      const quickchartButtonEl =\n",
       "        document.querySelector('#' + key + ' button');\n",
       "      quickchartButtonEl.disabled = true;  // To prevent multiple clicks.\n",
       "      quickchartButtonEl.classList.add('colab-df-spinner');\n",
       "      try {\n",
       "        const charts = await google.colab.kernel.invokeFunction(\n",
       "            'suggestCharts', [key], {});\n",
       "      } catch (error) {\n",
       "        console.error('Error during call to suggestCharts:', error);\n",
       "      }\n",
       "      quickchartButtonEl.classList.remove('colab-df-spinner');\n",
       "      quickchartButtonEl.classList.add('colab-df-quickchart-complete');\n",
       "    }\n",
       "    (() => {\n",
       "      let quickchartButtonEl =\n",
       "        document.querySelector('#df-d9a407f5-fbc5-4744-be6b-7b2405219d1f button');\n",
       "      quickchartButtonEl.style.display =\n",
       "        google.colab.kernel.accessAllowed ? 'block' : 'none';\n",
       "    })();\n",
       "  </script>\n",
       "</div>\n",
       "    </div>\n",
       "  </div>\n"
      ],
      "text/plain": [
       "0          Trimestre Homens Mulheres Total\n",
       "0  1º trimestre 2019   3124     2462  2844\n",
       "1  2º trimestre 2019   3088     2425  2806\n",
       "2  3º trimestre 2019   3102     2421  2813\n",
       "3  4º trimestre 2019   3123     2442  2834\n",
       "4  1º trimestre 2020   3178     2459  2875\n",
       "5  2º trimestre 2022   2939     2304  2670\n",
       "6  3º trimestre 2022   3031     2401  2763\n",
       "7  4º trimestre 2022   3115     2421  2819\n",
       "8  1º trimestre 2023   3111     2475  2841\n",
       "9  2º trimestre 2023   3107     2473  2836"
      ]
     },
     "execution_count": 4,
     "metadata": {},
     "output_type": "execute_result"
    }
   ],
   "source": [
    "dados_ibge"
   ]
  },
  {
   "cell_type": "code",
   "execution_count": null,
   "metadata": {
    "colab": {
     "base_uri": "https://localhost:8080/"
    },
    "id": "V5ow2HYclaeK",
    "outputId": "e13d8165-d45b-4b70-9e09-41026b697970"
   },
   "outputs": [
    {
     "name": "stdout",
     "output_type": "stream",
     "text": [
      "<class 'pandas.core.frame.DataFrame'>\n",
      "RangeIndex: 10 entries, 0 to 9\n",
      "Data columns (total 4 columns):\n",
      " #   Column     Non-Null Count  Dtype \n",
      "---  ------     --------------  ----- \n",
      " 0   Trimestre  10 non-null     object\n",
      " 1   Homens     10 non-null     object\n",
      " 2   Mulheres   10 non-null     object\n",
      " 3   Total      10 non-null     object\n",
      "dtypes: object(4)\n",
      "memory usage: 448.0+ bytes\n"
     ]
    }
   ],
   "source": [
    "dados_ibge.info()"
   ]
  },
  {
   "cell_type": "code",
   "execution_count": null,
   "metadata": {
    "colab": {
     "base_uri": "https://localhost:8080/"
    },
    "id": "V483flcdnE9s",
    "outputId": "0dc58515-8a0d-4a1f-c7b6-def647c261a9"
   },
   "outputs": [
    {
     "name": "stdout",
     "output_type": "stream",
     "text": [
      "<class 'pandas.core.frame.DataFrame'>\n",
      "RangeIndex: 10 entries, 0 to 9\n",
      "Data columns (total 4 columns):\n",
      " #   Column     Non-Null Count  Dtype \n",
      "---  ------     --------------  ----- \n",
      " 0   Trimestre  10 non-null     object\n",
      " 1   Homens     10 non-null     int64 \n",
      " 2   Mulheres   10 non-null     int64 \n",
      " 3   Total      10 non-null     int64 \n",
      "dtypes: int64(3), object(1)\n",
      "memory usage: 448.0+ bytes\n"
     ]
    }
   ],
   "source": [
    "# transformar colunas do tipo texto para o tipo numérico\n",
    "colunas_para_converter = ['Homens', 'Mulheres', 'Total']\n",
    "dados_ibge[colunas_para_converter] = dados_ibge[colunas_para_converter].astype(int)\n",
    "dados_ibge.info()"
   ]
  },
  {
   "cell_type": "code",
   "execution_count": null,
   "metadata": {
    "colab": {
     "base_uri": "https://localhost:8080/",
     "height": 300
    },
    "id": "WYMttY59ne3i",
    "outputId": "17204487-89ed-429f-bd93-ad9212f1ff7f"
   },
   "outputs": [
    {
     "data": {
      "text/html": [
       "\n",
       "  <div id=\"df-2ed7410e-8310-40fe-88d2-a9d5b86a783a\" class=\"colab-df-container\">\n",
       "    <div>\n",
       "<style scoped>\n",
       "    .dataframe tbody tr th:only-of-type {\n",
       "        vertical-align: middle;\n",
       "    }\n",
       "\n",
       "    .dataframe tbody tr th {\n",
       "        vertical-align: top;\n",
       "    }\n",
       "\n",
       "    .dataframe thead th {\n",
       "        text-align: right;\n",
       "    }\n",
       "</style>\n",
       "<table border=\"1\" class=\"dataframe\">\n",
       "  <thead>\n",
       "    <tr style=\"text-align: right;\">\n",
       "      <th></th>\n",
       "      <th>Homens</th>\n",
       "      <th>Mulheres</th>\n",
       "      <th>Total</th>\n",
       "    </tr>\n",
       "  </thead>\n",
       "  <tbody>\n",
       "    <tr>\n",
       "      <th>count</th>\n",
       "      <td>10.000000</td>\n",
       "      <td>10.00000</td>\n",
       "      <td>10.000000</td>\n",
       "    </tr>\n",
       "    <tr>\n",
       "      <th>mean</th>\n",
       "      <td>3091.800000</td>\n",
       "      <td>2428.30000</td>\n",
       "      <td>2810.100000</td>\n",
       "    </tr>\n",
       "    <tr>\n",
       "      <th>std</th>\n",
       "      <td>64.757325</td>\n",
       "      <td>50.28596</td>\n",
       "      <td>57.260516</td>\n",
       "    </tr>\n",
       "    <tr>\n",
       "      <th>min</th>\n",
       "      <td>2939.000000</td>\n",
       "      <td>2304.00000</td>\n",
       "      <td>2670.000000</td>\n",
       "    </tr>\n",
       "    <tr>\n",
       "      <th>25%</th>\n",
       "      <td>3091.500000</td>\n",
       "      <td>2421.00000</td>\n",
       "      <td>2807.750000</td>\n",
       "    </tr>\n",
       "    <tr>\n",
       "      <th>50%</th>\n",
       "      <td>3109.000000</td>\n",
       "      <td>2433.50000</td>\n",
       "      <td>2826.500000</td>\n",
       "    </tr>\n",
       "    <tr>\n",
       "      <th>75%</th>\n",
       "      <td>3121.000000</td>\n",
       "      <td>2461.25000</td>\n",
       "      <td>2839.750000</td>\n",
       "    </tr>\n",
       "    <tr>\n",
       "      <th>max</th>\n",
       "      <td>3178.000000</td>\n",
       "      <td>2475.00000</td>\n",
       "      <td>2875.000000</td>\n",
       "    </tr>\n",
       "  </tbody>\n",
       "</table>\n",
       "</div>\n",
       "    <div class=\"colab-df-buttons\">\n",
       "\n",
       "  <div class=\"colab-df-container\">\n",
       "    <button class=\"colab-df-convert\" onclick=\"convertToInteractive('df-2ed7410e-8310-40fe-88d2-a9d5b86a783a')\"\n",
       "            title=\"Convert this dataframe to an interactive table.\"\n",
       "            style=\"display:none;\">\n",
       "\n",
       "  <svg xmlns=\"http://www.w3.org/2000/svg\" height=\"24px\" viewBox=\"0 -960 960 960\">\n",
       "    <path d=\"M120-120v-720h720v720H120Zm60-500h600v-160H180v160Zm220 220h160v-160H400v160Zm0 220h160v-160H400v160ZM180-400h160v-160H180v160Zm440 0h160v-160H620v160ZM180-180h160v-160H180v160Zm440 0h160v-160H620v160Z\"/>\n",
       "  </svg>\n",
       "    </button>\n",
       "\n",
       "  <style>\n",
       "    .colab-df-container {\n",
       "      display:flex;\n",
       "      gap: 12px;\n",
       "    }\n",
       "\n",
       "    .colab-df-convert {\n",
       "      background-color: #E8F0FE;\n",
       "      border: none;\n",
       "      border-radius: 50%;\n",
       "      cursor: pointer;\n",
       "      display: none;\n",
       "      fill: #1967D2;\n",
       "      height: 32px;\n",
       "      padding: 0 0 0 0;\n",
       "      width: 32px;\n",
       "    }\n",
       "\n",
       "    .colab-df-convert:hover {\n",
       "      background-color: #E2EBFA;\n",
       "      box-shadow: 0px 1px 2px rgba(60, 64, 67, 0.3), 0px 1px 3px 1px rgba(60, 64, 67, 0.15);\n",
       "      fill: #174EA6;\n",
       "    }\n",
       "\n",
       "    .colab-df-buttons div {\n",
       "      margin-bottom: 4px;\n",
       "    }\n",
       "\n",
       "    [theme=dark] .colab-df-convert {\n",
       "      background-color: #3B4455;\n",
       "      fill: #D2E3FC;\n",
       "    }\n",
       "\n",
       "    [theme=dark] .colab-df-convert:hover {\n",
       "      background-color: #434B5C;\n",
       "      box-shadow: 0px 1px 3px 1px rgba(0, 0, 0, 0.15);\n",
       "      filter: drop-shadow(0px 1px 2px rgba(0, 0, 0, 0.3));\n",
       "      fill: #FFFFFF;\n",
       "    }\n",
       "  </style>\n",
       "\n",
       "    <script>\n",
       "      const buttonEl =\n",
       "        document.querySelector('#df-2ed7410e-8310-40fe-88d2-a9d5b86a783a button.colab-df-convert');\n",
       "      buttonEl.style.display =\n",
       "        google.colab.kernel.accessAllowed ? 'block' : 'none';\n",
       "\n",
       "      async function convertToInteractive(key) {\n",
       "        const element = document.querySelector('#df-2ed7410e-8310-40fe-88d2-a9d5b86a783a');\n",
       "        const dataTable =\n",
       "          await google.colab.kernel.invokeFunction('convertToInteractive',\n",
       "                                                    [key], {});\n",
       "        if (!dataTable) return;\n",
       "\n",
       "        const docLinkHtml = 'Like what you see? Visit the ' +\n",
       "          '<a target=\"_blank\" href=https://colab.research.google.com/notebooks/data_table.ipynb>data table notebook</a>'\n",
       "          + ' to learn more about interactive tables.';\n",
       "        element.innerHTML = '';\n",
       "        dataTable['output_type'] = 'display_data';\n",
       "        await google.colab.output.renderOutput(dataTable, element);\n",
       "        const docLink = document.createElement('div');\n",
       "        docLink.innerHTML = docLinkHtml;\n",
       "        element.appendChild(docLink);\n",
       "      }\n",
       "    </script>\n",
       "  </div>\n",
       "\n",
       "\n",
       "<div id=\"df-acc6447c-245e-4b84-a0ad-899116eb8ece\">\n",
       "  <button class=\"colab-df-quickchart\" onclick=\"quickchart('df-acc6447c-245e-4b84-a0ad-899116eb8ece')\"\n",
       "            title=\"Suggest charts.\"\n",
       "            style=\"display:none;\">\n",
       "\n",
       "<svg xmlns=\"http://www.w3.org/2000/svg\" height=\"24px\"viewBox=\"0 0 24 24\"\n",
       "     width=\"24px\">\n",
       "    <g>\n",
       "        <path d=\"M19 3H5c-1.1 0-2 .9-2 2v14c0 1.1.9 2 2 2h14c1.1 0 2-.9 2-2V5c0-1.1-.9-2-2-2zM9 17H7v-7h2v7zm4 0h-2V7h2v10zm4 0h-2v-4h2v4z\"/>\n",
       "    </g>\n",
       "</svg>\n",
       "  </button>\n",
       "\n",
       "<style>\n",
       "  .colab-df-quickchart {\n",
       "      --bg-color: #E8F0FE;\n",
       "      --fill-color: #1967D2;\n",
       "      --hover-bg-color: #E2EBFA;\n",
       "      --hover-fill-color: #174EA6;\n",
       "      --disabled-fill-color: #AAA;\n",
       "      --disabled-bg-color: #DDD;\n",
       "  }\n",
       "\n",
       "  [theme=dark] .colab-df-quickchart {\n",
       "      --bg-color: #3B4455;\n",
       "      --fill-color: #D2E3FC;\n",
       "      --hover-bg-color: #434B5C;\n",
       "      --hover-fill-color: #FFFFFF;\n",
       "      --disabled-bg-color: #3B4455;\n",
       "      --disabled-fill-color: #666;\n",
       "  }\n",
       "\n",
       "  .colab-df-quickchart {\n",
       "    background-color: var(--bg-color);\n",
       "    border: none;\n",
       "    border-radius: 50%;\n",
       "    cursor: pointer;\n",
       "    display: none;\n",
       "    fill: var(--fill-color);\n",
       "    height: 32px;\n",
       "    padding: 0;\n",
       "    width: 32px;\n",
       "  }\n",
       "\n",
       "  .colab-df-quickchart:hover {\n",
       "    background-color: var(--hover-bg-color);\n",
       "    box-shadow: 0 1px 2px rgba(60, 64, 67, 0.3), 0 1px 3px 1px rgba(60, 64, 67, 0.15);\n",
       "    fill: var(--button-hover-fill-color);\n",
       "  }\n",
       "\n",
       "  .colab-df-quickchart-complete:disabled,\n",
       "  .colab-df-quickchart-complete:disabled:hover {\n",
       "    background-color: var(--disabled-bg-color);\n",
       "    fill: var(--disabled-fill-color);\n",
       "    box-shadow: none;\n",
       "  }\n",
       "\n",
       "  .colab-df-spinner {\n",
       "    border: 2px solid var(--fill-color);\n",
       "    border-color: transparent;\n",
       "    border-bottom-color: var(--fill-color);\n",
       "    animation:\n",
       "      spin 1s steps(1) infinite;\n",
       "  }\n",
       "\n",
       "  @keyframes spin {\n",
       "    0% {\n",
       "      border-color: transparent;\n",
       "      border-bottom-color: var(--fill-color);\n",
       "      border-left-color: var(--fill-color);\n",
       "    }\n",
       "    20% {\n",
       "      border-color: transparent;\n",
       "      border-left-color: var(--fill-color);\n",
       "      border-top-color: var(--fill-color);\n",
       "    }\n",
       "    30% {\n",
       "      border-color: transparent;\n",
       "      border-left-color: var(--fill-color);\n",
       "      border-top-color: var(--fill-color);\n",
       "      border-right-color: var(--fill-color);\n",
       "    }\n",
       "    40% {\n",
       "      border-color: transparent;\n",
       "      border-right-color: var(--fill-color);\n",
       "      border-top-color: var(--fill-color);\n",
       "    }\n",
       "    60% {\n",
       "      border-color: transparent;\n",
       "      border-right-color: var(--fill-color);\n",
       "    }\n",
       "    80% {\n",
       "      border-color: transparent;\n",
       "      border-right-color: var(--fill-color);\n",
       "      border-bottom-color: var(--fill-color);\n",
       "    }\n",
       "    90% {\n",
       "      border-color: transparent;\n",
       "      border-bottom-color: var(--fill-color);\n",
       "    }\n",
       "  }\n",
       "</style>\n",
       "\n",
       "  <script>\n",
       "    async function quickchart(key) {\n",
       "      const quickchartButtonEl =\n",
       "        document.querySelector('#' + key + ' button');\n",
       "      quickchartButtonEl.disabled = true;  // To prevent multiple clicks.\n",
       "      quickchartButtonEl.classList.add('colab-df-spinner');\n",
       "      try {\n",
       "        const charts = await google.colab.kernel.invokeFunction(\n",
       "            'suggestCharts', [key], {});\n",
       "      } catch (error) {\n",
       "        console.error('Error during call to suggestCharts:', error);\n",
       "      }\n",
       "      quickchartButtonEl.classList.remove('colab-df-spinner');\n",
       "      quickchartButtonEl.classList.add('colab-df-quickchart-complete');\n",
       "    }\n",
       "    (() => {\n",
       "      let quickchartButtonEl =\n",
       "        document.querySelector('#df-acc6447c-245e-4b84-a0ad-899116eb8ece button');\n",
       "      quickchartButtonEl.style.display =\n",
       "        google.colab.kernel.accessAllowed ? 'block' : 'none';\n",
       "    })();\n",
       "  </script>\n",
       "</div>\n",
       "    </div>\n",
       "  </div>\n"
      ],
      "text/plain": [
       "0           Homens    Mulheres        Total\n",
       "count    10.000000    10.00000    10.000000\n",
       "mean   3091.800000  2428.30000  2810.100000\n",
       "std      64.757325    50.28596    57.260516\n",
       "min    2939.000000  2304.00000  2670.000000\n",
       "25%    3091.500000  2421.00000  2807.750000\n",
       "50%    3109.000000  2433.50000  2826.500000\n",
       "75%    3121.000000  2461.25000  2839.750000\n",
       "max    3178.000000  2475.00000  2875.000000"
      ]
     },
     "execution_count": 7,
     "metadata": {},
     "output_type": "execute_result"
    }
   ],
   "source": [
    "dados_ibge.describe()"
   ]
  },
  {
   "cell_type": "markdown",
   "metadata": {
    "id": "4k-x8m5Um0Qn"
   },
   "source": [
    "Observamos nos resultados acima que a média salarial mensal da população brasileira nos últimos anos é de:\n",
    "- Homens: R$ 3091,80\n",
    "\n",
    "- Mulheres: R$ 2428,30\n",
    "\n",
    "\n",
    "Sendo a média salarial feminina R$663,50 menor do que a média salarial masculina."
   ]
  },
  {
   "cell_type": "code",
   "execution_count": null,
   "metadata": {
    "colab": {
     "base_uri": "https://localhost:8080/",
     "height": 411
    },
    "id": "i_9NEMX9puWd",
    "outputId": "56bd7dfa-aa7e-41f1-81dc-9efaebf1b4b0"
   },
   "outputs": [
    {
     "data": {
      "image/png": "[encoded data removed]",
      "text/plain": [
       "<Figure size 600x400 with 1 Axes>"
      ]
     },
     "metadata": {},
     "output_type": "display_data"
    }
   ],
   "source": [
    "# Calcular a média de cada coluna\n",
    "media_homens = dados_ibge['Homens'].mean()\n",
    "media_mulheres = dados_ibge['Mulheres'].mean()\n",
    "medias= [media_homens, media_mulheres]\n",
    "colunas= ['Homens', 'Mulheres']\n",
    "\n",
    "# Criar o gráfico de barras\n",
    "plt.figure(figsize=(6, 4))\n",
    "plt.bar(colunas, medias, color=['gray', '#6e1e99'])\n",
    "plt.ylabel('Salário Médio')\n",
    "plt.xlabel(' ')\n",
    "plt.title('Média Salarial Brasileira por Gênero ')\n",
    "plt.xticks(rotation=0)\n",
    "plt.show()"
   ]
  },
  {
   "cell_type": "markdown",
   "metadata": {
    "id": "4dU3I_slqMMw"
   },
   "source": [
    "**1.2. Reportagens e informações sobre a participação das mulheres no mercado de tecnologia:**\n",
    "\n",
    "> \"De acordo com o relatório Global Gender Gap 2022, publicado pelo Fórum Econômico Mundial, a porcentagem de mulheres formadas em Tecnologias da Informação e Comunicação (TIC) é de 1,7% em comparação com 8,2% dos homens formados e, em Engenharia e Manufatura, os números são de 24,6% para os homens e 6,6% para mulheres. Esse cenário mostra que ainda há um longo caminho a percorrer e que precisamos começar a incentivar as mulheres a considerarem os campos STEAM.\"\n",
    "\n",
    "Fonte: https://www.gazetadopovo.com.br/vozes/gazzconecta-colab/mulheres-na-tecnologia-dados-mostram-o-impacto-da-diferenca-de-genero-no-setor/\n",
    "\n",
    "\n",
    ">\"Uma pesquisa do Instituto Brasileiro de Geografia e Estatística (IBGE) aponta que apenas 20% dos profissionais que atuam nesta área são mulheres. A porcentagem foi confirmada pelo levantamento da Pesquisa Nacional por Amostra de Domicílios (PNAD), feita com mais de 580 mil profissionais de TI que atuam no Brasil e no mundo. O último censo dos Estados Unidos, por exemplo, aponta que as mulheres ocupam apenas 25% dos empregos em TI. Em 2019, a gigante Google também revelou que apenas 30% do seu quadro de funcionários é formado por mulheres.\"\n",
    "\n",
    "Fonte: https://v1.go.senac.br/faculdade/site/noticia/5847-mulheres-sao-so-20-da-forca-de-trabalho-no-mercado-de-ti\n",
    "\n",
    "\n",
    "Relatório \"Quem Coda\", publicado em 2019 com informações sobre o perfil dos profissionais de tecnologia no Brasil e a taxa de empregabilidade de Mulheres negras: https://www.pretalab.com/report-quem-coda\n",
    "\n",
    "\n",
    "\n",
    "\n"
   ]
  },
  {
   "cell_type": "markdown",
   "metadata": {
    "id": "SWfQpfPa9fSa"
   },
   "source": [
    "## 2. Perfil Socioeconômico Inicial\n",
    "\n",
    "**Qual era a renda mensal per capita da sua casa antes do curso {reprograma}?**"
   ]
  },
  {
   "cell_type": "code",
   "execution_count": null,
   "metadata": {
    "colab": {
     "base_uri": "https://localhost:8080/",
     "height": 307
    },
    "id": "T-dAHDjG9fbv",
    "outputId": "9856785c-f158-49f3-8bc0-1b343c521337"
   },
   "outputs": [
    {
     "data": {
      "image/png": "[encoded data removed]",
      "text/plain": [
       "<Figure size 800x300 with 1 Axes>"
      ]
     },
     "metadata": {},
     "output_type": "display_data"
    }
   ],
   "source": [
    "# Dados para a pergunta 1\n",
    "labels_pergunta1 = ['Até 1 salário mínimo', 'De 1 a 3 salários mínimos', 'De 3 a 5 salários mínimos', 'Acima de 5 salários mínimos']\n",
    "porcentagens_pergunta1 = [12, 44, 8, 36]\n",
    "\n",
    "# Criando os gráficos de barras\n",
    "plt.figure(figsize=(8, 3))\n",
    "plt.barh(labels_pergunta1, porcentagens_pergunta1, color='#6e1e99')\n",
    "\n",
    "plt.xlabel('Total em %')\n",
    "plt.title('Renda mensal per capita antes do curso reprograma')\n",
    "\n",
    "# Adicionando os valores no final das barras\n",
    "for i, v in enumerate(porcentagens_pergunta1):\n",
    "    plt.text(v, i, f'{v:.0f}%', ha='left', va='center')\n",
    "\n",
    "plt.tight_layout()\n",
    "plt.show()\n"
   ]
  },
  {
   "cell_type": "markdown",
   "metadata": {
    "id": "Nmz7b7gCwRcQ"
   },
   "source": [
    "**Você estava empregada antes do curso {reprograma}? Em outra área ou na área de tecnologia?**\n"
   ]
  },
  {
   "cell_type": "code",
   "execution_count": null,
   "metadata": {
    "colab": {
     "base_uri": "https://localhost:8080/",
     "height": 367
    },
    "id": "MYFfloRc5VBh",
    "outputId": "0780b9ce-83ac-4184-edbc-573212757a3f"
   },
   "outputs": [
    {
     "data": {
      "image/png": "[encoded data removed]",
      "text/plain": [
       "<Figure size 600x400 with 1 Axes>"
      ]
     },
     "metadata": {},
     "output_type": "display_data"
    }
   ],
   "source": [
    "labels = ['Sim, em TI','Sim, em outra área','Não estava empregada']\n",
    "porcentagens = [12, 54, 34]\n",
    "explode = (0.1, 0, 0)\n",
    "# Criando o gráfico de pizza\n",
    "plt.figure(figsize=(6, 4))\n",
    "plt.pie(porcentagens, labels=labels, autopct='%.0f%%', explode= explode, colors=['#6e1e99', '#b382ba', '#e85d5d'])\n",
    "\n",
    "plt.title('Possuia emprego antes do curso')\n",
    "plt.show()\n"
   ]
  },
  {
   "cell_type": "markdown",
   "metadata": {
    "id": "0DuSdmDgwUtB"
   },
   "source": [
    "**Antes do curso {reprograma}, sua renda era suficiente para garantir a sua\n",
    "subsistência?**"
   ]
  },
  {
   "cell_type": "code",
   "execution_count": null,
   "metadata": {
    "colab": {
     "base_uri": "https://localhost:8080/",
     "height": 367
    },
    "id": "vencAILxwVPM",
    "outputId": "abb30104-b64c-445d-967b-80426b1dd7a1"
   },
   "outputs": [
    {
     "data": {
      "image/png": "[encoded data removed]",
      "text/plain": [
       "<Figure size 600x400 with 1 Axes>"
      ]
     },
     "metadata": {},
     "output_type": "display_data"
    }
   ],
   "source": [
    "labels = ['Sim','Não']\n",
    "porcentagens = [56, 44]\n",
    "\n",
    "# Criando o gráfico de pizza\n",
    "plt.figure(figsize=(6, 4))\n",
    "plt.pie(porcentagens, labels=labels, autopct='%.0f%%', colors=['#b382ba', '#e85d5d'])\n",
    "\n",
    "plt.title('Possuia renda suficiente para subsistência antes do curso')\n",
    "plt.show()"
   ]
  },
  {
   "cell_type": "markdown",
   "metadata": {
    "id": "kYFRVE0vEl3_"
   },
   "source": [
    "## 3. O Impacto do Curso na Renda e Emprego"
   ]
  },
  {
   "cell_type": "markdown",
   "metadata": {
    "id": "Eeg9Tga7Qum4"
   },
   "source": [
    "**Comparativo entre a renda mensal per capita antes do curso e atualmente.**"
   ]
  },
  {
   "cell_type": "code",
   "execution_count": null,
   "metadata": {
    "colab": {
     "base_uri": "https://localhost:8080/",
     "height": 507
    },
    "id": "QTYKzekUf0uo",
    "outputId": "641aa05d-4732-42b6-9f05-34db0fbde4f1"
   },
   "outputs": [
    {
     "data": {
      "image/png": "[encoded data removed]",
      "text/plain": [
       "<Figure size 800x500 with 1 Axes>"
      ]
     },
     "metadata": {},
     "output_type": "display_data"
    }
   ],
   "source": [
    "# Categorias\n",
    "categorias = ['Até 1 salário mínimo', 'De 1 a 3 salários mínimos', 'De 3 a 5 salários mínimos', 'Acima de 5 salários mínimos']\n",
    "\n",
    "# Posição no eixo x para as barras\n",
    "x = np.arange(len(categorias))\n",
    "\n",
    "# Largura das barras\n",
    "largura_barra = 0.25\n",
    "\n",
    "# Dados para as perguntas\n",
    "porcentagens_antes = [12, 44, 8, 36]\n",
    "porcentagens_depois = [8, 22, 38, 32]\n",
    "\n",
    "# Criar gráfico de barras\n",
    "plt.figure(figsize=(8, 5))\n",
    "\n",
    "# Plotagem das barras\n",
    "barra1 = plt.bar(x - largura_barra/2, porcentagens_antes, largura_barra, label='Antes do Curso', color='#b382ba')\n",
    "barra2 = plt.bar(x + largura_barra/2, porcentagens_depois, largura_barra, label='Atualmente', color='#6e1e99')\n",
    "\n",
    "plt.ylabel('Total em %')\n",
    "plt.title('Renda Mensal Per Capita Antes do Curso x Atualmente')\n",
    "plt.xticks(x, categorias, rotation=20)\n",
    "plt.legend()\n",
    "\n",
    "# Adicionar os valores no final das barras\n",
    "for barra in barra1:\n",
    "    yval = barra.get_height()\n",
    "    plt.text(barra.get_x() + barra.get_width()/2, yval, f'{yval:.0f}%', ha='center', va='bottom')\n",
    "\n",
    "for barra in barra2:\n",
    "    yval = barra.get_height()\n",
    "    plt.text(barra.get_x() + barra.get_width()/2, yval, f'{yval:.0f}%', ha='center', va='bottom')\n",
    "\n",
    "plt.tight_layout()\n",
    "plt.show()"
   ]
  },
  {
   "cell_type": "markdown",
   "metadata": {
    "id": "gEBw87QstjCz"
   },
   "source": [
    "Considerações: Vemos que 56% das alunas possuiam renda per capita de até 3 salários mínimos antes do curso, e que esse percentual caiu para 30%, aumentando consideravelmente a quantidade de alunas com renda per capita de 3 a 5 salários mínimos (de 8% para 30%).\n",
    "\n",
    "A diminuição percentual de alunas com renda acima de 5 salários mínimos pode ter se dado por diversos fatores, entre eles:\n",
    "- Mudança de carreira e início de uma nova carreira em tecnologia.\n",
    "- Mudança na empregabilidade de outras pessoas do domicílio (outras pessoas da residência podem ter perdido o emprego e com isso a renda per capita diminuiu)."
   ]
  },
  {
   "cell_type": "markdown",
   "metadata": {
    "id": "anSfscYk4E7O"
   },
   "source": [
    "**Comparativo de Empregabilidade antes do curso e atualmente:**\n",
    "- Não estava empregada antes do curso x Não está empregada atualmente.\n",
    "- Estava empregada em outra área antes do curso x Está empregada em outra área atualmente.\n",
    "- Estava trabalhando em TI antes do curso x Está trabalhando em TI atualmente.\n"
   ]
  },
  {
   "cell_type": "code",
   "execution_count": null,
   "metadata": {
    "colab": {
     "base_uri": "https://localhost:8080/",
     "height": 407
    },
    "id": "6buhmCFEMP85",
    "outputId": "2b612b57-be7f-4c74-cced-78436f88b90b"
   },
   "outputs": [
    {
     "data": {
      "image/png": "[encoded data removed]",
      "text/plain": [
       "<Figure size 800x400 with 1 Axes>"
      ]
     },
     "metadata": {},
     "output_type": "display_data"
    }
   ],
   "source": [
    "# Dados\n",
    "labels = ['Antes do Curso', 'Atualmente']\n",
    "nao_empregada = [34, 22]  # Soma de \"Não estava empregada\" para Anterior e Atual\n",
    "sim_outra_area = [54, 6]  # Soma de \"Sim em outra área\" para Anterior e Atual\n",
    "sim_ti = [12, 72]  # Soma de \"Sim em TI\" para Anterior e Atual\n",
    "largura_barra = 0.4\n",
    "\n",
    "# Posição para as barras\n",
    "posicao = np.arange(len(labels))\n",
    "\n",
    "# Criar o gráfico de barras empilhadas\n",
    "plt.figure(figsize=(8, 4))\n",
    "plt.barh(posicao, nao_empregada, height = largura_barra, color='#e85d5d', label='Não estava empregada')\n",
    "plt.barh(posicao, sim_outra_area, left=nao_empregada, height = largura_barra, color='#b382ba', label='Sim, em outra área')\n",
    "plt.barh(posicao, sim_ti, left=np.add(nao_empregada, sim_outra_area), height = largura_barra, color='#6e1e99', label='Sim, em TI')\n",
    "\n",
    "# Adicionar os valores percentuais dentro das colunas\n",
    "for i in range(len(posicao)):\n",
    "    plt.text(nao_empregada[i] / 2, posicao[i], f'{nao_empregada[i]:.0f}%', ha='center', va='center', color='black', fontsize=12)\n",
    "    plt.text(nao_empregada[i] + sim_outra_area[i] / 2, posicao[i], f'{sim_outra_area[i]:.0f}%', ha='center', va='center', color='white', fontsize=12)\n",
    "    plt.text(nao_empregada[i] + sim_outra_area[i] + sim_ti[i] / 2, posicao[i], f'{sim_ti[i]:.0f}%', ha='center', va='center', color='white', fontsize=12)\n",
    "\n",
    "plt.xlabel('Porcentagem (%)')\n",
    "plt.title('Distribuição de Emprego: Anterior e Atual')\n",
    "plt.yticks(posicao, labels)\n",
    "plt.legend(loc='upper left')\n",
    "plt.tight_layout()\n",
    "plt.legend()\n",
    "plt.show()\n"
   ]
  },
  {
   "cell_type": "markdown",
   "metadata": {
    "id": "elS2IOU0ve55"
   },
   "source": [
    "Nesse gráfico, notamos que após participar da {reprograma}, a situação das alunas mudou consideravelmente. Agora, 78% das alunas estão empregadas, com uma expressiva maioria (72%) trabalhando na área de TI."
   ]
  },
  {
   "cell_type": "markdown",
   "metadata": {
    "id": "6K4fcTZLwIek"
   },
   "source": [
    "**Calculando o Intervalo de Confiança:**\n",
    "\n",
    "Vamos calcular os intervalos de confiança para as alunas que trabalhavam em TI antes do curso e para as alunas que trabalham com TI atualmente. Através desse cálculo, com base na nossa amostra, podemos estimar em que faixa de proporção a população provavelmente se encontra.\n",
    "\n",
    "Temos que o tamanho da nossa amostra é de 4000 alunas e o intervalo de confiança é de 95%."
   ]
  },
  {
   "cell_type": "code",
   "execution_count": null,
   "metadata": {
    "id": "aqUlKRO7m9kj"
   },
   "outputs": [],
   "source": [
    "from statsmodels.stats.proportion import proportion_confint"
   ]
  },
  {
   "cell_type": "markdown",
   "metadata": {
    "id": "3jP7TAzZz6Yy"
   },
   "source": [
    "Para o total de alunas que trabalhavam com TI antes do curso:"
   ]
  },
  {
   "cell_type": "code",
   "execution_count": null,
   "metadata": {
    "colab": {
     "base_uri": "https://localhost:8080/"
    },
    "id": "rzCdpMK-rIoT",
    "outputId": "90769648-7af6-4ecc-f557-49fbdad1e4c1"
   },
   "outputs": [
    {
     "data": {
      "text/plain": [
       "(0.1099295227091103, 0.1300704772908897)"
      ]
     },
     "execution_count": 15,
     "metadata": {},
     "output_type": "execute_result"
    }
   ],
   "source": [
    "# utilizando os dados fornecidos: tamanho da amostra:4000, intervalo de confiança de 95%\n",
    "# count= total de alunas que trabalhavam com TI antes do curso = 12% = 480\n",
    "# nobs= tamanho da amostra\n",
    "proportion_confint(count=480,nobs=4000,alpha=(1 - 0.95))"
   ]
  },
  {
   "cell_type": "markdown",
   "metadata": {
    "id": "T4uqcCcn0O9p"
   },
   "source": [
    "Para o total de alunas que trabalham com TI atualmente:"
   ]
  },
  {
   "cell_type": "code",
   "execution_count": null,
   "metadata": {
    "colab": {
     "base_uri": "https://localhost:8080/"
    },
    "id": "k2KNWktwrZcL",
    "outputId": "2ef9abea-5a5c-4f55-b5e6-2f1d87b30500"
   },
   "outputs": [
    {
     "data": {
      "text/plain": [
       "(0.706085636034551, 0.733914363965449)"
      ]
     },
     "execution_count": 16,
     "metadata": {},
     "output_type": "execute_result"
    }
   ],
   "source": [
    "# utilizando os dados fornecidos: tamanho da amostra:4000, intervalo de confiança de 95%\n",
    "# count= total de alunas que trabalham com TI atualmente = 72% = 2880\n",
    "# nobs= tamanho da amostra\n",
    "proportion_confint(count=2880,nobs=4000,alpha=(1 - 0.95))"
   ]
  },
  {
   "cell_type": "markdown",
   "metadata": {
    "id": "uRx8jRgS0XRU"
   },
   "source": [
    "De acordo com nossos resultados, podemos estimar com 95% de confiança que:\n",
    "- Entre 11% e 13% de todas as alunas da {reprograma} não trabalhavam com TI antes do curso;\n",
    "- Entre 70% e 73% de toda as alunas da {reprograma} trabalham com TI após o projeto.\n",
    "O fato dos intervalos de margem de erro antes e depois do curso não se sobreporem, implica que nosso resultado é estatisticamente significativo a 95% de confiança."
   ]
  },
  {
   "cell_type": "markdown",
   "metadata": {
    "id": "FzQCN9WmQRmO"
   },
   "source": [
    "**Comparativo de antes do curso e atualmente da pergunta: Sua renda é suficiente para garantir a sua subsistência?**"
   ]
  },
  {
   "cell_type": "code",
   "execution_count": null,
   "metadata": {
    "colab": {
     "base_uri": "https://localhost:8080/",
     "height": 407
    },
    "id": "nnez4p-MUdgr",
    "outputId": "b4634c9a-7f31-4fc6-ba68-6cba2f62fbde"
   },
   "outputs": [
    {
     "data": {
      "image/png": "[encoded data removed]",
      "text/plain": [
       "<Figure size 600x400 with 1 Axes>"
      ]
     },
     "metadata": {},
     "output_type": "display_data"
    }
   ],
   "source": [
    "labels = ['Não', 'Sim']\n",
    "porcentagens_ant = [44, 56]\n",
    "porcentagens_dep = [37, 63]\n",
    "\n",
    "x = np.arange(len(labels)) # Posição das barras no eixo x\n",
    "\n",
    "largura_barra = 0.35\n",
    "\n",
    "plt.figure(figsize=(6, 4)) # Criar o gráfico de barras lado a lado\n",
    "\n",
    "# Plotagem das barras\n",
    "plt.bar(x - largura_barra/2, porcentagens_ant, largura_barra, label='Antes do Curso', color='#b382ba')\n",
    "plt.bar(x + largura_barra/2, porcentagens_dep, largura_barra, label='Atualmente', color='#6e1e99')\n",
    "\n",
    "plt.ylabel('Total em %')\n",
    "plt.title('Renda suficiente para subsistência: Antes do Curso x Atualmente')\n",
    "plt.xticks(x, labels)\n",
    "plt.legend()\n",
    "\n",
    "# Adicionar os valores nas barras\n",
    "for i in range(len(x)):\n",
    "    plt.text(x[i] - largura_barra/2, porcentagens_ant[i] + 1, f'{porcentagens_ant[i]:.0f}%', ha='center', va='bottom')\n",
    "    plt.text(x[i] + largura_barra/2, porcentagens_dep[i] + 1, f'{porcentagens_dep[i]:.0f}%', ha='center', va='bottom')\n",
    "\n",
    "plt.tight_layout()\n",
    "plt.show()\n"
   ]
  },
  {
   "cell_type": "markdown",
   "metadata": {
    "id": "CnPNHPPOkwie"
   },
   "source": [
    "**Calculando o Intervalo de Confiança:**\n",
    "\n",
    "Vamos calcular os intervalos de confiança para as alunas que possuiam renda suficiente para subsistência antes do curso e para as que possuem renda suficiente para subsistência atualmente. Através desse cálculo, com base na nossa amostra, podemos estimar em que faixa de proporção a população provavelmente se encontra.\n",
    "\n",
    "Temos que o tamanho da nossa amostra é de 4000 alunas e o intervalo de confiança é de 95%."
   ]
  },
  {
   "cell_type": "markdown",
   "metadata": {
    "id": "4CeH7asS2g9_"
   },
   "source": [
    "Para o total de alunas que possuiam renda suficiente para subsistência antes do curso:"
   ]
  },
  {
   "cell_type": "code",
   "execution_count": null,
   "metadata": {
    "colab": {
     "base_uri": "https://localhost:8080/"
    },
    "id": "mmyg7uRCnjqX",
    "outputId": "bb53ea76-31e4-4c3c-a74c-49ae4cb0ae97"
   },
   "outputs": [
    {
     "data": {
      "text/plain": [
       "(0.5446170918433881, 0.575382908156612)"
      ]
     },
     "execution_count": 18,
     "metadata": {},
     "output_type": "execute_result"
    }
   ],
   "source": [
    "# utilizando os dados fornecidos: tamanho da amostra:4000, intervalo de confiança de 95%\n",
    "# count= total de alunas que possuiam renda para subsistência antes do curso 56% = 2240\n",
    "# nobs= tamanho da amostra\n",
    "proportion_confint(count=2240,nobs=4000,alpha=(1 - 0.95))"
   ]
  },
  {
   "cell_type": "markdown",
   "metadata": {
    "id": "Q313dC9Q22GA"
   },
   "source": [
    "Para o total de alunas que possuem renda suficiente para subsistência atualmente:"
   ]
  },
  {
   "cell_type": "code",
   "execution_count": null,
   "metadata": {
    "colab": {
     "base_uri": "https://localhost:8080/"
    },
    "id": "rVHaCgBQoxl6",
    "outputId": "be3c8f6f-7818-47cb-8131-72e8132b5292"
   },
   "outputs": [
    {
     "data": {
      "text/plain": [
       "(0.6150380144106489, 0.6449619855893511)"
      ]
     },
     "execution_count": 19,
     "metadata": {},
     "output_type": "execute_result"
    }
   ],
   "source": [
    "# utilizando os dados fornecidos: tamanho da amostra:4000, intervalo de confiança de 95%\n",
    "# count= total de alunas que possuiem renda para subsistência atualmente 63% = 2520\n",
    "# nobs= tamanho da amostra\n",
    "proportion_confint(count=2520,nobs=4000,alpha=(1 - 0.95))"
   ]
  },
  {
   "cell_type": "markdown",
   "metadata": {
    "id": "K0xC4HUy2-O7"
   },
   "source": [
    "De acordo com nossos resultados, podemos estimar com 95% de confiança que:\n",
    "- Entre 54% e 57% de todas as alunas da {reprograma} possuiam renda suficiente para subsistência antes do curso;\n",
    "- Entre 61% e 64% de toda as alunas da {reprograma} possuem renda suficiente para subsistência atualmente.\n",
    "\n",
    "O fato dos intervalos de margem de erro antes e depois do curso não se sobreporem, implica que há uma diferença estatisticamente significativa entre a condição de renda das alunas antes do curso e a condição atual de renda das alunas. Essa diferença pode ser atribuída ao impacto da {reprograma} no contexto socioeconômico das alunas."
   ]
  },
  {
   "cell_type": "markdown",
   "metadata": {
    "id": "ZH797XBqV3j7"
   },
   "source": [
    "## Conclusão:\n",
    "\n",
    "Antes de ingressar na {reprograma}, a grande maioria das alunas estava enfrentando desafios financeiros. Cerca de 56% das participantes relataram que a renda de suas famílias não era suficiente para garantir a subsistência, com 34% delas desempregadas. Além disso, apenas 12% possuíam emprego na área de TI, mostrando um cenário de desigualdade e falta de representatividade.\n",
    "\n",
    "Após participar da {reprograma}, a situação mudou consideravelmente. Agora, 78% das alunas estão empregadas, com uma expressiva maioria (72%) trabalhando na área de TI. Isso reflete uma oportunidade de crescimento profissional significativa, e 63% delas afirmam que a renda atual é suficiente para garantir a subsistência, indicando uma melhora substancial na qualidade de vida.\n",
    "\n",
    "Ao analisar os dados, percebemos que a {reprograma} está fazendo diferença real. O curso não apenas transforma a carreira das alunas, mas também suas condições socioeconômicas. Ao proporcionar acesso à educação e oportunidades no setor de TI, a {reprograma} está contribuindo para um futuro mais inclusivo e equitativo."
   ]
  },
  {
   "cell_type": "markdown",
   "metadata": {
    "id": "GFmkA-Ob4MDY"
   },
   "source": [
    "## Anexos:\n",
    "\n",
    "1. Link para tabela do IBGE https://sidra.ibge.gov.br/tabela/5436#resultado\n"
   ]
  }
 ],
 "metadata": {
  "colab": {
   "provenance": []
  },
  "kernelspec": {
   "display_name": "Python 3 (ipykernel)",
   "language": "python",
   "name": "python3"
  },
  "language_info": {
   "codemirror_mode": {
    "name": "ipython",
    "version": 3
   },
   "file_extension": ".py",
   "mimetype": "text/x-python",
   "name": "python",
   "nbconvert_exporter": "python",
   "pygments_lexer": "ipython3",
   "version": "3.11.5"
  },
  "toc": {
   "base_numbering": 1,
   "nav_menu": {},
   "number_sections": true,
   "sideBar": true,
   "skip_h1_title": false,
   "title_cell": "Table of Contents",
   "title_sidebar": "Contents",
   "toc_cell": false,
   "toc_position": {},
   "toc_section_display": true,
   "toc_window_display": false
  }
 },
 "nbformat": 4,
 "nbformat_minor": 1
}
